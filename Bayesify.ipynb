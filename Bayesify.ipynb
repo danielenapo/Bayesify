{
 "cells": [
  {
   "cell_type": "code",
   "execution_count": 35,
   "metadata": {},
   "outputs": [
    {
     "data": {
      "text/html": [
       "<div>\n",
       "<style scoped>\n",
       "    .dataframe tbody tr th:only-of-type {\n",
       "        vertical-align: middle;\n",
       "    }\n",
       "\n",
       "    .dataframe tbody tr th {\n",
       "        vertical-align: top;\n",
       "    }\n",
       "\n",
       "    .dataframe thead th {\n",
       "        text-align: right;\n",
       "    }\n",
       "</style>\n",
       "<table border=\"1\" class=\"dataframe\">\n",
       "  <thead>\n",
       "    <tr style=\"text-align: right;\">\n",
       "      <th></th>\n",
       "      <th>danceability</th>\n",
       "      <th>energy</th>\n",
       "      <th>loudness</th>\n",
       "      <th>acousticness</th>\n",
       "      <th>instrumentalness</th>\n",
       "      <th>valence</th>\n",
       "      <th>tempo</th>\n",
       "      <th>genre</th>\n",
       "      <th>like</th>\n",
       "    </tr>\n",
       "  </thead>\n",
       "  <tbody>\n",
       "    <tr>\n",
       "      <th>0</th>\n",
       "      <td>0.754</td>\n",
       "      <td>0.813</td>\n",
       "      <td>-5.400</td>\n",
       "      <td>0.071</td>\n",
       "      <td>0.00007</td>\n",
       "      <td>0.955</td>\n",
       "      <td>98.457</td>\n",
       "      <td>4</td>\n",
       "      <td>1</td>\n",
       "    </tr>\n",
       "    <tr>\n",
       "      <th>1</th>\n",
       "      <td>0.546</td>\n",
       "      <td>0.793</td>\n",
       "      <td>-5.753</td>\n",
       "      <td>0.334</td>\n",
       "      <td>0.37800</td>\n",
       "      <td>0.516</td>\n",
       "      <td>104.161</td>\n",
       "      <td>11</td>\n",
       "      <td>1</td>\n",
       "    </tr>\n",
       "    <tr>\n",
       "      <th>2</th>\n",
       "      <td>0.212</td>\n",
       "      <td>0.561</td>\n",
       "      <td>-14.217</td>\n",
       "      <td>0.800</td>\n",
       "      <td>0.00457</td>\n",
       "      <td>0.257</td>\n",
       "      <td>76.257</td>\n",
       "      <td>11</td>\n",
       "      <td>1</td>\n",
       "    </tr>\n",
       "    <tr>\n",
       "      <th>3</th>\n",
       "      <td>0.504</td>\n",
       "      <td>0.934</td>\n",
       "      <td>-6.802</td>\n",
       "      <td>0.536</td>\n",
       "      <td>0.84500</td>\n",
       "      <td>0.897</td>\n",
       "      <td>117.850</td>\n",
       "      <td>11</td>\n",
       "      <td>1</td>\n",
       "    </tr>\n",
       "    <tr>\n",
       "      <th>4</th>\n",
       "      <td>0.667</td>\n",
       "      <td>0.519</td>\n",
       "      <td>-14.370</td>\n",
       "      <td>0.329</td>\n",
       "      <td>0.42100</td>\n",
       "      <td>0.604</td>\n",
       "      <td>99.526</td>\n",
       "      <td>9</td>\n",
       "      <td>1</td>\n",
       "    </tr>\n",
       "  </tbody>\n",
       "</table>\n",
       "</div>"
      ],
      "text/plain": [
       "   danceability  energy  loudness  acousticness  instrumentalness  valence  \\\n",
       "0         0.754   0.813    -5.400         0.071           0.00007    0.955   \n",
       "1         0.546   0.793    -5.753         0.334           0.37800    0.516   \n",
       "2         0.212   0.561   -14.217         0.800           0.00457    0.257   \n",
       "3         0.504   0.934    -6.802         0.536           0.84500    0.897   \n",
       "4         0.667   0.519   -14.370         0.329           0.42100    0.604   \n",
       "\n",
       "     tempo  genre  like  \n",
       "0   98.457      4     1  \n",
       "1  104.161     11     1  \n",
       "2   76.257     11     1  \n",
       "3  117.850     11     1  \n",
       "4   99.526      9     1  "
      ]
     },
     "execution_count": 35,
     "metadata": {},
     "output_type": "execute_result"
    }
   ],
   "source": [
    "import pgmpy\n",
    "import pandas as pd\n",
    "import matplotlib.pyplot as plt\n",
    "#import dataset\n",
    "data=pd.read_csv(\"spotifyData.csv\")\n",
    "#drop first column\n",
    "data=data.drop(data.columns[0],axis=1)\n",
    "data.head()"
   ]
  },
  {
   "attachments": {},
   "cell_type": "markdown",
   "metadata": {},
   "source": [
    "Discretize values"
   ]
  },
  {
   "cell_type": "code",
   "execution_count": 36,
   "metadata": {},
   "outputs": [
    {
     "data": {
      "text/html": [
       "<div>\n",
       "<style scoped>\n",
       "    .dataframe tbody tr th:only-of-type {\n",
       "        vertical-align: middle;\n",
       "    }\n",
       "\n",
       "    .dataframe tbody tr th {\n",
       "        vertical-align: top;\n",
       "    }\n",
       "\n",
       "    .dataframe thead th {\n",
       "        text-align: right;\n",
       "    }\n",
       "</style>\n",
       "<table border=\"1\" class=\"dataframe\">\n",
       "  <thead>\n",
       "    <tr style=\"text-align: right;\">\n",
       "      <th></th>\n",
       "      <th>danceability</th>\n",
       "      <th>energy</th>\n",
       "      <th>loudness</th>\n",
       "      <th>acousticness</th>\n",
       "      <th>instrumentalness</th>\n",
       "      <th>valence</th>\n",
       "      <th>tempo</th>\n",
       "      <th>genre</th>\n",
       "      <th>like</th>\n",
       "    </tr>\n",
       "  </thead>\n",
       "  <tbody>\n",
       "    <tr>\n",
       "      <th>0</th>\n",
       "      <td>75</td>\n",
       "      <td>81</td>\n",
       "      <td>-5</td>\n",
       "      <td>7</td>\n",
       "      <td>0</td>\n",
       "      <td>95</td>\n",
       "      <td>98</td>\n",
       "      <td>4</td>\n",
       "      <td>1</td>\n",
       "    </tr>\n",
       "    <tr>\n",
       "      <th>1</th>\n",
       "      <td>54</td>\n",
       "      <td>79</td>\n",
       "      <td>-5</td>\n",
       "      <td>33</td>\n",
       "      <td>37</td>\n",
       "      <td>51</td>\n",
       "      <td>104</td>\n",
       "      <td>11</td>\n",
       "      <td>1</td>\n",
       "    </tr>\n",
       "    <tr>\n",
       "      <th>2</th>\n",
       "      <td>21</td>\n",
       "      <td>56</td>\n",
       "      <td>-14</td>\n",
       "      <td>80</td>\n",
       "      <td>0</td>\n",
       "      <td>25</td>\n",
       "      <td>76</td>\n",
       "      <td>11</td>\n",
       "      <td>1</td>\n",
       "    </tr>\n",
       "    <tr>\n",
       "      <th>3</th>\n",
       "      <td>50</td>\n",
       "      <td>93</td>\n",
       "      <td>-6</td>\n",
       "      <td>53</td>\n",
       "      <td>84</td>\n",
       "      <td>89</td>\n",
       "      <td>117</td>\n",
       "      <td>11</td>\n",
       "      <td>1</td>\n",
       "    </tr>\n",
       "    <tr>\n",
       "      <th>4</th>\n",
       "      <td>66</td>\n",
       "      <td>51</td>\n",
       "      <td>-14</td>\n",
       "      <td>32</td>\n",
       "      <td>42</td>\n",
       "      <td>60</td>\n",
       "      <td>99</td>\n",
       "      <td>9</td>\n",
       "      <td>1</td>\n",
       "    </tr>\n",
       "  </tbody>\n",
       "</table>\n",
       "</div>"
      ],
      "text/plain": [
       "   danceability  energy  loudness  acousticness  instrumentalness  valence  \\\n",
       "0            75      81        -5             7                 0       95   \n",
       "1            54      79        -5            33                37       51   \n",
       "2            21      56       -14            80                 0       25   \n",
       "3            50      93        -6            53                84       89   \n",
       "4            66      51       -14            32                42       60   \n",
       "\n",
       "   tempo  genre  like  \n",
       "0     98      4     1  \n",
       "1    104     11     1  \n",
       "2     76     11     1  \n",
       "3    117     11     1  \n",
       "4     99      9     1  "
      ]
     },
     "execution_count": 36,
     "metadata": {},
     "output_type": "execute_result"
    }
   ],
   "source": [
    "#integer casting of tempo and loudness\n",
    "data['tempo']=data['tempo'].apply(lambda x: int(x))\n",
    "data['loudness']=data['loudness'].apply(lambda x: int(x))\n",
    "#discretize all percentages (danceability, energy, acousticness and valence, instrumentalness)\n",
    "#multiply them by 100 and floor\n",
    "data['danceability']=data['danceability'].apply(lambda x: int(x*100))\n",
    "data['energy']=data['energy'].apply(lambda x: int(x*100))\n",
    "data['acousticness']=data['acousticness'].apply(lambda x: int(x*100))\n",
    "data['valence']=data['valence'].apply(lambda x: int(x*100))\n",
    "data['instrumentalness']=data['instrumentalness'].apply(lambda x: int(x*100))\n",
    "\n",
    "\n",
    "data.head()"
   ]
  },
  {
   "cell_type": "code",
   "execution_count": 37,
   "metadata": {},
   "outputs": [],
   "source": [
    "#create model in pgmpy\n",
    "from pgmpy.models import BayesianModel"
   ]
  },
  {
   "attachments": {},
   "cell_type": "markdown",
   "metadata": {},
   "source": [
    "Creating a custom model based on the description of variables from the API's documentation, and personal intuition."
   ]
  },
  {
   "cell_type": "code",
   "execution_count": 38,
   "metadata": {},
   "outputs": [
    {
     "name": "stderr",
     "output_type": "stream",
     "text": [
      "/home/danielenapo/.local/lib/python3.11/site-packages/pgmpy/models/BayesianModel.py:8: FutureWarning: BayesianModel has been renamed to BayesianNetwork. Please use BayesianNetwork class, BayesianModel will be removed in future.\n",
      "  warnings.warn(\n"
     ]
    }
   ],
   "source": [
    "no_genre_data = data.drop(['genre'], axis=1)\n",
    "custom_model = BayesianModel([('loudness', 'energy'), ('tempo', 'energy'),\n",
    "                                ('energy', 'valence'), ('danceability', 'valence'),\n",
    "                              ('valence', 'like'), ('acousticness', 'like'),('instrumentalness', 'like')])\n"
   ]
  },
  {
   "attachments": {},
   "cell_type": "markdown",
   "metadata": {},
   "source": [
    "Learn parameters"
   ]
  },
  {
   "cell_type": "code",
   "execution_count": 39,
   "metadata": {},
   "outputs": [],
   "source": [
    "from pgmpy.estimators import MaximumLikelihoodEstimator\n",
    "custom_model.fit(no_genre_data, estimator=MaximumLikelihoodEstimator)"
   ]
  },
  {
   "attachments": {},
   "cell_type": "markdown",
   "metadata": {},
   "source": [
    "## Inference"
   ]
  },
  {
   "cell_type": "code",
   "execution_count": 40,
   "metadata": {},
   "outputs": [],
   "source": [
    "import seaborn as sns"
   ]
  },
  {
   "cell_type": "code",
   "execution_count": 58,
   "metadata": {},
   "outputs": [
    {
     "data": {
      "text/plain": [
       "<AxesSubplot: >"
      ]
     },
     "execution_count": 58,
     "metadata": {},
     "output_type": "execute_result"
    },
    {
     "data": {
      "image/png": "[encoded data removed]",
      "text/plain": [
       "<Figure size 640x480 with 1 Axes>"
      ]
     },
     "metadata": {},
     "output_type": "display_data"
    }
   ],
   "source": [
    "# make inference\n",
    "from pgmpy.inference import VariableElimination\n",
    "infer = VariableElimination(custom_model)\n",
    "# query for the probability that i like a song given that the tempo is less than 100\n",
    "q = infer.query(variables=['like'], evidence={'tempo': 130, 'acousticness':10, 'valence':10}, joint=False)\n",
    "# barplot with seaborn\n",
    "sns.barplot(x=[0,1], y=q['like'].values)"
   ]
  },
  {
   "cell_type": "code",
   "execution_count": 59,
   "metadata": {},
   "outputs": [
    {
     "name": "stdout",
     "output_type": "stream",
     "text": [
      "[0.5 0.5]\n"
     ]
    }
   ],
   "source": [
    "print(q['like'].values)"
   ]
  }
 ],
 "metadata": {
  "kernelspec": {
   "display_name": "Python 3",
   "language": "python",
   "name": "python3"
  },
  "language_info": {
   "codemirror_mode": {
    "name": "ipython",
    "version": 3
   },
   "file_extension": ".py",
   "mimetype": "text/x-python",
   "name": "python",
   "nbconvert_exporter": "python",
   "pygments_lexer": "ipython3",
   "version": "3.11.0"
  },
  "orig_nbformat": 4,
  "vscode": {
   "interpreter": {
    "hash": "e7370f93d1d0cde622a1f8e1c04877d8463912d04d973331ad4851f04de6915a"
   }
  }
 },
 "nbformat": 4,
 "nbformat_minor": 2
}
